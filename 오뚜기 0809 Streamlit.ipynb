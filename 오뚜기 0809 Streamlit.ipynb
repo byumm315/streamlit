{
 "cells": [
  {
   "cell_type": "code",
   "execution_count": null,
   "id": "529e1774",
   "metadata": {},
   "outputs": [],
   "source": [
    "import streamlit as st\n",
    "import plotly.figure_factory as ff\n",
    "import pandas as pd\n",
    "import plotly.graph_objects as go\n",
    "import plotly.express as px\n",
    "import numpy as np\n",
    "st.set_page_config(\n",
    "    page_title=\"Home\"\n",
    ")\n",
    "st.title('Wind Speed Predictor') #홈페이지 제목추가\n",
    "st.header('Wind Data')\n",
    "st.image('https://images.nationalgeographic.org/image/upload/t_edhub_resource_key_image/v1652340973/EducationHub/photos/wind-farm.jpg')\n",
    "data=pd.read_csv('wind_train.csv') #해당 데이터는 github에 업로드하면 파일 경로가 필요없다.\n",
    "data=data.drop('ID',axis=1)\n",
    "\n",
    "change_names=['월','일','시간대','섭씨온도','절대온도','이슬점','상대습도','대기압','포화증기압','실제증기압','증기압부족량',\n",
    "              '수증기함량','공기밀도','풍향','풍속']\n",
    "for i,j in zip(data.columns,change_names):\n",
    "    data.rename(columns={i:j},inplace=True)\n",
    "\n",
    "st.write(data.head(20))"
   ]
  },
  {
   "cell_type": "code",
   "execution_count": null,
   "id": "89c43075",
   "metadata": {},
   "outputs": [],
   "source": [
    "#히스토그램 그리기\n",
    "\n",
    "st.subheader('The Histogram of Wind data')\n",
    "vari1 = st.selectbox(label = \"Choose a Variable\", options = data.drop(['월','일','시간대'],axis=1).columns,key=1)\n",
    "fig4 = px.histogram(data,x=vari1,nbins=100)\n",
    "st.plotly_chart(fig4)"
   ]
  },
  {
   "cell_type": "code",
   "execution_count": null,
   "id": "8c1ebc64",
   "metadata": {},
   "outputs": [],
   "source": [
    "#막대그래프 그리기\n",
    "\n",
    "st.subheader('The Bar plots of Wind data')\n",
    "v2_list = ['섭씨온도','절대온도','이슬점','상대습도','대기압','포화증기압','실제증기압','증기압부족량',\n",
    "              '수증기함량','공기밀도','풍향','풍속']\n",
    "vari2 = st.selectbox(label = \"Choose a Variable\", options = v2_list,key=1)\n",
    "title = f\"The Bar plot of Month, Time Zone and {vari2}\"\n",
    "fig = px.bar(data, x = '월', y = vari2,color=\"시간대\", barmode = 'group',title=title)\n",
    "st.plotly_chart(fig)"
   ]
  }
 ],
 "metadata": {
  "kernelspec": {
   "display_name": "Python 3 (ipykernel)",
   "language": "python",
   "name": "python3"
  },
  "language_info": {
   "codemirror_mode": {
    "name": "ipython",
    "version": 3
   },
   "file_extension": ".py",
   "mimetype": "text/x-python",
   "name": "python",
   "nbconvert_exporter": "python",
   "pygments_lexer": "ipython3",
   "version": "3.10.9"
  }
 },
 "nbformat": 4,
 "nbformat_minor": 5
}
